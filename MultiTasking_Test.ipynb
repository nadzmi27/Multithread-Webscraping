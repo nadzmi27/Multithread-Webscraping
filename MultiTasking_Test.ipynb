{
 "cells": [
  {
   "cell_type": "markdown",
   "id": "dc51eb9e-9a71-4ac5-b5be-7dfc1ca7f4fd",
   "metadata": {},
   "source": [
    "# Just for Testing :D"
   ]
  },
  {
   "cell_type": "markdown",
   "id": "5104c35f-863a-4411-bbc0-77fc4161769b",
   "metadata": {},
   "source": [
    "## TESTING TQDM"
   ]
  },
  {
   "cell_type": "code",
   "execution_count": null,
   "id": "604d4d06-4f40-49e4-886a-7014f32af6b2",
   "metadata": {},
   "outputs": [],
   "source": [
    "import time\n",
    "from tqdm.notebook import tqdm"
   ]
  },
  {
   "cell_type": "code",
   "execution_count": 2,
   "id": "b571b2cd-a5a8-44ab-8fab-1502785b4454",
   "metadata": {},
   "outputs": [
    {
     "data": {
      "application/vnd.jupyter.widget-view+json": {
       "model_id": "024a243e1bdb4d99af0af7bddfe1b0f4",
       "version_major": 2,
       "version_minor": 0
      },
      "text/plain": [
       "  0%|          | 0/10 [00:00<?, ?it/s]"
      ]
     },
     "metadata": {},
     "output_type": "display_data"
    }
   ],
   "source": [
    "# Test the bar\n",
    "for i in tqdm(range(10)):\n",
    "    time.sleep(0.5)"
   ]
  },
  {
   "cell_type": "code",
   "execution_count": 3,
   "id": "edae8d29-a408-4b4b-a914-356650e65c51",
   "metadata": {},
   "outputs": [
    {
     "data": {
      "application/vnd.jupyter.widget-view+json": {
       "model_id": "5de5e197d8fa4415b5989e09fd49fabf",
       "version_major": 2,
       "version_minor": 0
      },
      "text/plain": [
       "Text You Want:   0%|          | 0/100 [00:00<?, ?it/s]"
      ]
     },
     "metadata": {},
     "output_type": "display_data"
    }
   ],
   "source": [
    "# Adding description\n",
    "for i in tqdm(range(0, 100), desc =\"Text You Want\"):\n",
    "    time.sleep(.1)"
   ]
  },
  {
   "cell_type": "code",
   "execution_count": 4,
   "id": "5ad5892f-cee1-4513-95cb-543fef46f8a1",
   "metadata": {},
   "outputs": [
    {
     "data": {
      "application/vnd.jupyter.widget-view+json": {
       "model_id": "b5a6e37443b54c0796485ea06e78d450",
       "version_major": 2,
       "version_minor": 0
      },
      "text/plain": [
       "Text You Want:   0%|          | 0/120 [00:00<?, ?it/s]"
      ]
     },
     "metadata": {},
     "output_type": "display_data"
    }
   ],
   "source": [
    "# Adding total \n",
    "for i in tqdm(range(0, 100), total = 120,\n",
    "              desc =\"Text You Want\"):\n",
    "    time.sleep(.1)"
   ]
  },
  {
   "cell_type": "code",
   "execution_count": 5,
   "id": "8c766b21-b727-4005-996d-48b35b3437a9",
   "metadata": {},
   "outputs": [
    {
     "data": {
      "application/vnd.jupyter.widget-view+json": {
       "model_id": "ec831732e5d44bffaddf8387298106ad",
       "version_major": 2,
       "version_minor": 0
      },
      "text/plain": [
       "Text You Want:   0%|                                                        | 0/100 [00:00<?, ?it/s]"
      ]
     },
     "metadata": {},
     "output_type": "display_data"
    }
   ],
   "source": [
    "# Specifiying how wide the bar is\n",
    "for i in tqdm(range(0, 100), ncols = 100,\n",
    "               desc =\"Text You Want\"):\n",
    "    time.sleep(.1)"
   ]
  },
  {
   "cell_type": "code",
   "execution_count": 6,
   "id": "aa2e8714-9757-4981-b02f-6a2ea19c1134",
   "metadata": {},
   "outputs": [
    {
     "data": {
      "application/vnd.jupyter.widget-view+json": {
       "model_id": "ef30bb5f083e4f1ea486ab164bc50056",
       "version_major": 2,
       "version_minor": 0
      },
      "text/plain": [
       "Text You Want:   0%|          | 0/100 [00:00<?, ?it/s]"
      ]
     },
     "metadata": {},
     "output_type": "display_data"
    }
   ],
   "source": [
    "# Show bar in interval\n",
    "for i in tqdm(range(0, 100), mininterval = 1,\n",
    "              desc =\"Text You Want\"):\n",
    "    time.sleep(.1)"
   ]
  },
  {
   "cell_type": "code",
   "execution_count": 9,
   "id": "c17fa62f-213d-4173-8e0e-0b030f60ab99",
   "metadata": {},
   "outputs": [
    {
     "data": {
      "application/vnd.jupyter.widget-view+json": {
       "model_id": "4c6ace4edddb4c76b6536fa663bfa3dd",
       "version_major": 2,
       "version_minor": 0
      },
      "text/plain": [
       "Testing:   0%|          | 0/26 [00:00<?, ?it/s]"
      ]
     },
     "metadata": {},
     "output_type": "display_data"
    }
   ],
   "source": [
    "# Testing tqdm on list\n",
    "a = \"abcdefghijklmnopqrstuvwxyz\"\n",
    "for i in tqdm(a, desc = 'Testing'):\n",
    "    time.sleep(.1)"
   ]
  },
  {
   "cell_type": "markdown",
   "id": "c9840122-d498-4bcf-a3ad-99b5ee619758",
   "metadata": {},
   "source": [
    "## THREADING"
   ]
  },
  {
   "cell_type": "code",
   "execution_count": null,
   "id": "59d538e8-2242-4555-b2a2-4cf6ade559bd",
   "metadata": {},
   "outputs": [],
   "source": [
    "import threading"
   ]
  },
  {
   "cell_type": "code",
   "execution_count": 8,
   "id": "613ccf36-0610-459f-8884-f07562ea41e2",
   "metadata": {},
   "outputs": [],
   "source": [
    "# Just append number on list and sleep for 2 seconds\n",
    "def foo(num, lst):\n",
    "    time.sleep(2)\n",
    "    lst.append(num)"
   ]
  },
  {
   "cell_type": "code",
   "execution_count": 10,
   "id": "da1e6de4-0af8-4c93-b73f-045ab2e0f838",
   "metadata": {},
   "outputs": [
    {
     "data": {
      "application/vnd.jupyter.widget-view+json": {
       "model_id": "aafb239afe494667bd6d5e2c681195cc",
       "version_major": 2,
       "version_minor": 0
      },
      "text/plain": [
       "  0%|          | 0/10 [00:00<?, ?it/s]"
      ]
     },
     "metadata": {},
     "output_type": "display_data"
    }
   ],
   "source": [
    "# Should take 10 seconds normally (2 seconds per iteration)\n",
    "b = []\n",
    "for i in tqdm(range(10)):\n",
    "    foo(i, [])"
   ]
  },
  {
   "cell_type": "code",
   "execution_count": 38,
   "id": "5383865f-3f43-4e2a-a846-5bb54526fee8",
   "metadata": {},
   "outputs": [
    {
     "data": {
      "application/vnd.jupyter.widget-view+json": {
       "model_id": "5a0eb180eba44af9a07381a214c724a2",
       "version_major": 2,
       "version_minor": 0
      },
      "text/plain": [
       "  0%|          | 0/100 [00:00<?, ?it/s]"
      ]
     },
     "metadata": {},
     "output_type": "display_data"
    },
    {
     "name": "stdout",
     "output_type": "stream",
     "text": [
      "0 0 0 0 0 0 0 0 0 0 "
     ]
    },
    {
     "data": {
      "application/vnd.jupyter.widget-view+json": {
       "model_id": "752296d8d2ed498dba716183bd813368",
       "version_major": 2,
       "version_minor": 0
      },
      "text/plain": [
       "  0%|          | 0/100 [00:00<?, ?it/s]"
      ]
     },
     "metadata": {},
     "output_type": "display_data"
    }
   ],
   "source": [
    "# SHould be faster\n",
    "lst = []\n",
    "threads = []\n",
    "for num in tqdm(range(100)):\n",
    "    t = threading.Thread(target = foo, args = (num,lst))\n",
    "    t.start()\n",
    "    threads.append(t)\n",
    "    if num % 10 == 0:\n",
    "        print(len(lst), end=\" \")\n",
    "\n",
    "for thread in tqdm(threads):\n",
    "    thread.join()"
   ]
  },
  {
   "cell_type": "code",
   "execution_count": 39,
   "id": "6b12e4ce-006e-4743-b15f-d040b2704482",
   "metadata": {},
   "outputs": [
    {
     "name": "stdout",
     "output_type": "stream",
     "text": [
      "100\n",
      "[24, 26, 17, 12, 9, 25, 1, 21, 20, 18, 27, 19, 16, 15, 22, 14, 13, 23, 6, 10, 11, 8, 5, 7, 2, 4, 28, 3, 0, 48, 98, 49, 46, 47, 51, 50, 45, 42, 38, 41, 43, 44, 37, 34, 33, 30, 40, 39, 29, 89, 36, 86, 85, 35, 82, 31, 32, 81, 78, 77, 87, 88, 74, 73, 84, 70, 83, 69, 66, 80, 65, 79, 62, 61, 76, 58, 75, 57, 54, 72, 53, 71, 68, 64, 67, 63, 60, 59, 97, 56, 55, 52, 99, 94, 96, 93, 90, 95, 92, 91]\n"
     ]
    }
   ],
   "source": [
    "# Use a lot of threading when the order doesn't matter\n",
    "print(len(lst))\n",
    "print(lst)"
   ]
  },
  {
   "cell_type": "code",
   "execution_count": 40,
   "id": "543f478e-4931-4cda-8bbc-33306c920388",
   "metadata": {},
   "outputs": [
    {
     "name": "stdout",
     "output_type": "stream",
     "text": [
      "[0, 1, 2, 3, 4, 5, 6, 7, 8, 9, 10, 11, 12, 13, 14, 15, 16, 17, 18, 19, 20, 21, 22, 23, 24, 25, 26, 27, 28, 29, 30, 31, 32, 33, 34, 35, 36, 37, 38, 39, 40, 41, 42, 43, 44, 45, 46, 47, 48, 49, 50, 51, 52, 53, 54, 55, 56, 57, 58, 59, 60, 61, 62, 63, 64, 65, 66, 67, 68, 69, 70, 71, 72, 73, 74, 75, 76, 77, 78, 79, 80, 81, 82, 83, 84, 85, 86, 87, 88, 89, 90, 91, 92, 93, 94, 95, 96, 97, 98, 99]\n"
     ]
    }
   ],
   "source": [
    "print(sorted(a))"
   ]
  },
  {
   "cell_type": "markdown",
   "id": "7f0a8181-e647-407a-853b-6e16abc99488",
   "metadata": {},
   "source": [
    "### MULTIPROCESSING"
   ]
  },
  {
   "cell_type": "code",
   "execution_count": 42,
   "id": "ab7671f6-989a-47ec-bbea-e3f18d10135c",
   "metadata": {},
   "outputs": [
    {
     "data": {
      "text/plain": [
       "8"
      ]
     },
     "execution_count": 42,
     "metadata": {},
     "output_type": "execute_result"
    }
   ],
   "source": [
    "import multiprocess as mp\n",
    "import time\n",
    "mp.cpu_count()"
   ]
  },
  {
   "cell_type": "code",
   "execution_count": 43,
   "id": "74dceb8e-a9ce-447f-8dbe-da1e17765c3c",
   "metadata": {},
   "outputs": [],
   "source": [
    "def my_function(x):\n",
    "    x += 1\n",
    "    return x"
   ]
  },
  {
   "cell_type": "code",
   "execution_count": 44,
   "id": "9d788c5f-2335-4faa-899e-38e7b055cc0c",
   "metadata": {},
   "outputs": [
    {
     "name": "stdout",
     "output_type": "stream",
     "text": [
      "[2, 3, 4, 5, 6, 7]\n"
     ]
    }
   ],
   "source": [
    "import multiprocess as mp\n",
    "\n",
    "pool = mp.Pool()\n",
    "results = pool.map(my_function, [1,2,3,4,5,6])\n",
    "pool.close()\n",
    "pool.join()\n",
    "print(results)"
   ]
  },
  {
   "cell_type": "markdown",
   "id": "759803fe-5bc5-42fb-8902-ee9360f1dfe9",
   "metadata": {},
   "source": [
    "### Concurrent"
   ]
  },
  {
   "cell_type": "code",
   "execution_count": 45,
   "id": "243b2bc7-8e0d-4a95-8d8c-526bac67ac2d",
   "metadata": {},
   "outputs": [],
   "source": [
    "import concurrent.futures as cf"
   ]
  },
  {
   "cell_type": "code",
   "execution_count": 48,
   "id": "a2db7c7b-fde4-417c-81a6-88afcd0fe60d",
   "metadata": {},
   "outputs": [
    {
     "name": "stdout",
     "output_type": "stream",
     "text": [
      "Sleeping for 5 second(s)\n",
      "Sleeping for 4 second(s)\n",
      "Sleeping for 3 second(s)\n",
      "Sleeping for 2 second(s)\n",
      "Sleeping for 1 second(s)\n",
      "Done sleeping...1\n",
      "Done sleeping...2\n",
      "Done sleeping...3\n",
      "Done sleeping...4\n",
      "Done sleeping...5\n",
      "-> 5\n",
      "-> 4\n",
      "-> 3\n",
      "-> 2\n",
      "-> 1\n",
      "Finished in 5.007 seconds(s)\n"
     ]
    }
   ],
   "source": [
    "start = time.perf_counter()\n",
    "def do_something(sec):\n",
    "    print(f'Sleeping for {sec} second(s)', end = '\\n')\n",
    "    time.sleep(sec)\n",
    "    print(f'Done sleeping...{sec}')\n",
    "    return (f'-> {sec}')\n",
    "\n",
    "\n",
    "with cf.ThreadPoolExecutor() as executor:\n",
    "    secs = [5,4,3,2,1]\n",
    "    results = executor.map(do_something, secs)\n",
    "    \n",
    "    for f in results:\n",
    "        print(f)\n",
    "    \n",
    "finish = time.perf_counter()\n",
    "print(f'Finished in {round(finish - start, 3)} seconds(s)')"
   ]
  }
 ],
 "metadata": {
  "kernelspec": {
   "display_name": "Python 3 (ipykernel)",
   "language": "python",
   "name": "python3"
  },
  "language_info": {
   "codemirror_mode": {
    "name": "ipython",
    "version": 3
   },
   "file_extension": ".py",
   "mimetype": "text/x-python",
   "name": "python",
   "nbconvert_exporter": "python",
   "pygments_lexer": "ipython3",
   "version": "3.9.13"
  }
 },
 "nbformat": 4,
 "nbformat_minor": 5
}
